{
  "nbformat": 4,
  "nbformat_minor": 0,
  "metadata": {
    "colab": {
      "provenance": []
    },
    "kernelspec": {
      "name": "python3",
      "display_name": "Python 3"
    },
    "language_info": {
      "name": "python"
    }
  },
  "cells": [
    {
      "cell_type": "code",
      "execution_count": null,
      "metadata": {
        "colab": {
          "base_uri": "https://localhost:8080/"
        },
        "id": "OQbDECyMAzhc",
        "outputId": "51997569-b91c-4e36-9abe-1943ab4d3fd6"
      },
      "outputs": [
        {
          "output_type": "stream",
          "name": "stdout",
          "text": [
            "Enter the title or part of the title to search for: harry\n",
            "Books related to harry:\n",
            "Harry Potter and the Philosopher's Stone\n",
            "Harry Potter and the Chamber of Secrets\n",
            "Harry Potter and the Prisoner of Azkaban\n"
          ]
        }
      ],
      "source": [
        "library = {\n",
        "    \"fantasy\": [\"Harry Potter and the Philosopher's Stone\",\n",
        "                \"Harry Potter and the Chamber of Secrets\",\n",
        "                \"Harry Potter and the Prisoner of Azkaban\"],\n",
        "    \"mystery\": [\"Sherlock Holmes: A Study in Scarlet\",\n",
        "                \"Sherlock Holmes: The Sign of the Four\",\n",
        "                \"Sherlock Holmes: The Hound of the Baskervilles\"]}\n",
        "search_title = input(\"Enter the title or part of the title to search for: \")\n",
        "found_books = []\n",
        "for books in library.values():\n",
        "    for book in books:\n",
        "        if search_title in book:\n",
        "            found_books.extend([book])\n",
        "\n",
        "if found_books:\n",
        "    print(\"Books related to\", search_title + \":\")\n",
        "    for book in found_books:\n",
        "        print(book)\n",
        "else:\n",
        "    print(\"No books found.\")\n"
      ]
    }
  ]
}